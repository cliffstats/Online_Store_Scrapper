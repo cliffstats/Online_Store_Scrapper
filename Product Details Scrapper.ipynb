{
 "cells": [
  {
   "cell_type": "markdown",
   "metadata": {},
   "source": [
    "## KILIMALL SCRAPPER CODE"
   ]
  },
  {
   "cell_type": "code",
   "execution_count": 2,
   "metadata": {},
   "outputs": [
    {
     "data": {
      "text/plain": [
       "24"
      ]
     },
     "execution_count": 2,
     "metadata": {},
     "output_type": "execute_result"
    }
   ],
   "source": [
    "####WEBSCRAPPING KILIMALL USING BS4 IN PYTHON\n",
    "from urllib.request import urlopen as uReq\n",
    "from nltk import text\n",
    "import pandas as pd\n",
    "from bs4 import BeautifulSoup as soup\n",
    "\n",
    "kilimall_url = \"https://www.kilimall.co.ke/promotion.html\"\n",
    "kilimall_url\n",
    "\n",
    "papito = uReq(kilimall_url)\n",
    "kilimall_html = papito.read()\n",
    "papito.close()\n",
    "\n",
    "page_soup = soup(kilimall_html, \"html.parser\")\n",
    "\n",
    "holders = page_soup.findAll(\"li\",{\"class\" : \"item\"})\n",
    "len(holders)\n",
    "\n",
    "filename = \"kilimalldeals.csv\"\n",
    "fif = open (filename, \"w\")\n",
    "headers = \" Product_Name , Prices \\n\"\n",
    "fif.write(headers)\n"
   ]
  },
  {
   "cell_type": "code",
   "execution_count": 52,
   "metadata": {},
   "outputs": [
    {
     "name": "stdout",
     "output_type": "stream",
     "text": [
      "['KSh 2,650', 'KSh 899', 'KSh 799', 'KSh 2,998', 'KSh 13,450']\n",
      "6942\n",
      "['KSh 3,290 ', 'KSh 1,299 ', 'KSh 999 ', '', 'KSh 17,000 ']\n",
      "6942\n",
      "['VITRON V008 Home Theater Sound System 2.1 Multimedia Bluetooth Speaker Subwoofer black 25w V008 ', 'Bluetooth Smart Watch Smartwatch DZ09 Android Phone Call Relogio 2G GSM SIM TF Card Camera Black one size ', 'YOUTUBE New fashion Net red Bri Hall the same goods synthetic lady wig detached complete short wig COLORMIX ', 'COCOCICI Fastion Men&aposs National Style Printing 3D fashion leisure large size slim long sleeve shirts DEEP BLUE 3XL COCOCICI Fastion men shirts Long Sleeve Shirt Men 3D Printing Slim Fit Turn-do', 'FΩL 32 Inch Support T2 Function  Full HD 1080P LED Digital TV(13450KSh only for top40 customers) black 32 Inch ']\n",
      "6942\n"
     ]
    }
   ],
   "source": [
    "for holder in holders:\n",
    "    name_holder += holder.findAll(\"h2\", {\"class\":\"goods-name\"})\n",
    "    price_holder += holder.findAll(\"div\", {\"class\":\"goods-price\"})\n",
    "offerPrice = [p.text for p in price_holder]\n",
    "offerPrice = [p.split('\\n') for p in offerPrice]\n",
    "offer_Price = [p[1] for p in offerPrice]\n",
    "print(offer_Price[0:5])\n",
    "print(len(offer_Price))\n",
    "market_Price = [p[2] for p in offerPrice]\n",
    "print(market_Price[0:5])\n",
    "print(len(market_Price))\n",
    "productName = [n.text for n in name_holder]\n",
    "print(productName[0:5])\n",
    "productName = productName[0:len(offer_Price)]\n",
    "print(len(productName))"
   ]
  },
  {
   "cell_type": "code",
   "execution_count": 53,
   "metadata": {},
   "outputs": [],
   "source": [
    "dict_kilimall={'productName':productName, 'offer_Price':offer_Price,'market_Price':market_Price    \n",
    "}\n",
    "kilimall_offers= pd.DataFrame(dict_kilimall)# index=True)"
   ]
  },
  {
   "cell_type": "code",
   "execution_count": 54,
   "metadata": {},
   "outputs": [
    {
     "data": {
      "text/html": [
       "<div>\n",
       "<style scoped>\n",
       "    .dataframe tbody tr th:only-of-type {\n",
       "        vertical-align: middle;\n",
       "    }\n",
       "\n",
       "    .dataframe tbody tr th {\n",
       "        vertical-align: top;\n",
       "    }\n",
       "\n",
       "    .dataframe thead th {\n",
       "        text-align: right;\n",
       "    }\n",
       "</style>\n",
       "<table border=\"1\" class=\"dataframe\">\n",
       "  <thead>\n",
       "    <tr style=\"text-align: right;\">\n",
       "      <th></th>\n",
       "      <th>productName</th>\n",
       "      <th>offer_Price</th>\n",
       "      <th>market_Price</th>\n",
       "    </tr>\n",
       "  </thead>\n",
       "  <tbody>\n",
       "    <tr>\n",
       "      <th>0</th>\n",
       "      <td>VITRON V008 Home Theater Sound System 2.1 Mult...</td>\n",
       "      <td>KSh 2,650</td>\n",
       "      <td>KSh 3,290</td>\n",
       "    </tr>\n",
       "    <tr>\n",
       "      <th>1</th>\n",
       "      <td>Bluetooth Smart Watch Smartwatch DZ09 Android ...</td>\n",
       "      <td>KSh 899</td>\n",
       "      <td>KSh 1,299</td>\n",
       "    </tr>\n",
       "    <tr>\n",
       "      <th>2</th>\n",
       "      <td>YOUTUBE New fashion Net red Bri Hall the same ...</td>\n",
       "      <td>KSh 799</td>\n",
       "      <td>KSh 999</td>\n",
       "    </tr>\n",
       "    <tr>\n",
       "      <th>3</th>\n",
       "      <td>COCOCICI Fastion Men&amp;aposs National Style Prin...</td>\n",
       "      <td>KSh 2,998</td>\n",
       "      <td></td>\n",
       "    </tr>\n",
       "    <tr>\n",
       "      <th>4</th>\n",
       "      <td>FΩL 32 Inch Support T2 Function  Full HD 1080P...</td>\n",
       "      <td>KSh 13,450</td>\n",
       "      <td>KSh 17,000</td>\n",
       "    </tr>\n",
       "    <tr>\n",
       "      <th>5</th>\n",
       "      <td>TAGWOOD MP-28 Cuboid LED Mini Wireless Bluetoo...</td>\n",
       "      <td>KSh 1,499</td>\n",
       "      <td>KSh 2,299</td>\n",
       "    </tr>\n",
       "    <tr>\n",
       "      <th>6</th>\n",
       "      <td>SuTai Electric Kettle 2.2L  Double-layer VDE 2...</td>\n",
       "      <td>KSh 999</td>\n",
       "      <td>KSh 1,800</td>\n",
       "    </tr>\n",
       "    <tr>\n",
       "      <th>7</th>\n",
       "      <td>X96 Mini TV BOX Android 7.1 OS Smart TV Box Am...</td>\n",
       "      <td>KSh 2,399</td>\n",
       "      <td>KSh 4,998</td>\n",
       "    </tr>\n",
       "    <tr>\n",
       "      <th>8</th>\n",
       "      <td>4Pcs Bedding Set (1 Duvet cover+1 Bed sheet+2 ...</td>\n",
       "      <td>KSh 1,490</td>\n",
       "      <td>KSh 3,790</td>\n",
       "    </tr>\n",
       "    <tr>\n",
       "      <th>9</th>\n",
       "      <td>4Pcs Bedding Set (1 Duvet cover+1 Bed sheet+2 ...</td>\n",
       "      <td>KSh 1,490</td>\n",
       "      <td>KSh 3,790</td>\n",
       "    </tr>\n",
       "  </tbody>\n",
       "</table>\n",
       "</div>"
      ],
      "text/plain": [
       "                                         productName offer_Price market_Price\n",
       "0  VITRON V008 Home Theater Sound System 2.1 Mult...   KSh 2,650   KSh 3,290 \n",
       "1  Bluetooth Smart Watch Smartwatch DZ09 Android ...     KSh 899   KSh 1,299 \n",
       "2  YOUTUBE New fashion Net red Bri Hall the same ...     KSh 799     KSh 999 \n",
       "3  COCOCICI Fastion Men&aposs National Style Prin...   KSh 2,998             \n",
       "4  FΩL 32 Inch Support T2 Function  Full HD 1080P...  KSh 13,450  KSh 17,000 \n",
       "5  TAGWOOD MP-28 Cuboid LED Mini Wireless Bluetoo...   KSh 1,499   KSh 2,299 \n",
       "6  SuTai Electric Kettle 2.2L  Double-layer VDE 2...     KSh 999   KSh 1,800 \n",
       "7  X96 Mini TV BOX Android 7.1 OS Smart TV Box Am...   KSh 2,399   KSh 4,998 \n",
       "8  4Pcs Bedding Set (1 Duvet cover+1 Bed sheet+2 ...   KSh 1,490   KSh 3,790 \n",
       "9  4Pcs Bedding Set (1 Duvet cover+1 Bed sheet+2 ...   KSh 1,490   KSh 3,790 "
      ]
     },
     "execution_count": 54,
     "metadata": {},
     "output_type": "execute_result"
    }
   ],
   "source": [
    "kilimall_offers.head(10)"
   ]
  },
  {
   "cell_type": "code",
   "execution_count": 55,
   "metadata": {},
   "outputs": [],
   "source": [
    "kilimall_offers.to_csv('kilimall_offers.csv')"
   ]
  },
  {
   "cell_type": "code",
   "execution_count": null,
   "metadata": {},
   "outputs": [],
   "source": []
  }
 ],
 "metadata": {
  "kernelspec": {
   "display_name": "Python 3",
   "language": "python",
   "name": "python3"
  },
  "language_info": {
   "codemirror_mode": {
    "name": "ipython",
    "version": 3
   },
   "file_extension": ".py",
   "mimetype": "text/x-python",
   "name": "python",
   "nbconvert_exporter": "python",
   "pygments_lexer": "ipython3",
   "version": "3.7.1"
  }
 },
 "nbformat": 4,
 "nbformat_minor": 2
}
